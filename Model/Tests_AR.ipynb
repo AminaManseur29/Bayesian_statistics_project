{
 "cells": [
  {
   "cell_type": "markdown",
   "id": "852ad4d8-a5db-4a03-92a4-845eae278e58",
   "metadata": {},
   "source": [
    "## Problème : estimer un modèle ARMA avec des méthodes bayésiennes - tests sur données simulées de l'estimation par PyMC"
   ]
  },
  {
   "cell_type": "code",
   "execution_count": null,
   "id": "990421f3-8a9e-4b71-9d18-71d9220ec38e",
   "metadata": {},
   "outputs": [],
   "source": [
    "pip install pymc==5.18.2"
   ]
  },
  {
   "cell_type": "code",
   "execution_count": null,
   "id": "a6bc0b42-dad5-4eb5-a8de-3258a4faecf0",
   "metadata": {},
   "outputs": [],
   "source": [
    "pip install ipywidgets"
   ]
  },
  {
   "cell_type": "code",
   "execution_count": null,
   "id": "c42f09f0-1b1f-48ae-a525-1ee81c730e2d",
   "metadata": {},
   "outputs": [],
   "source": [
    "import numpy as np\n",
    "import pandas as pd\n",
    "from scipy.stats import dirichlet, norm\n",
    "import random\n",
    "\n",
    "import arviz as az\n",
    "import matplotlib.pyplot as plt\n",
    "import pymc as pm\n",
    "import ipywidgets\n",
    "\n",
    "%config InlineBackend.figure_format = 'retina'\n",
    "RANDOM_SEED = 8927\n",
    "np.random.seed(RANDOM_SEED)\n",
    "az.style.use(\"arviz-darkgrid\")"
   ]
  },
  {
   "cell_type": "code",
   "execution_count": null,
   "id": "7a516c4b-0157-48b2-8664-706a80fece31",
   "metadata": {},
   "outputs": [],
   "source": [
    "# PREMIER ESSAI : panel de 4 séries, générées selon le même modèle\n",
    "# NB : il faut que les deux séries soient en ligne (=> df de taille NxT)\n",
    "\n",
    "# Paramètres\n",
    "N = 4  # Nombre de séries (panel)\n",
    "T = 200  # Longueur de chaque série\n",
    "phi_true = 0.8  # Coefficient AR(1)\n",
    "sigma_true = 1.0  # Écart-type du bruit blanc\n",
    "\n",
    "# Initialiser un DataFrame pour le panel\n",
    "panel_data = pd.DataFrame()\n",
    "\n",
    "# Simuler chaque série\n",
    "for i in range(N):\n",
    "    y = np.zeros(T)  # Initialisation de la série\n",
    "    epsilon = np.random.normal(0, sigma_true, T)  # Bruit blanc\n",
    "\n",
    "    # Générer la série AR(1)\n",
    "    for t in range(1, T):\n",
    "        y[t] = phi_true * y[t - 1] + epsilon[t]\n",
    "\n",
    "    # Ajouter la série au DataFrame\n",
    "    panel_data[f\"series_{i+1}\"] = y\n",
    "\n",
    "# Ajouter un index temporel\n",
    "panel_data.index = range(1, T + 1)\n",
    "panel_data = panel_data.T\n",
    "\n",
    "# Afficher les 10 premières lignes\n",
    "print(panel_data.head(10))"
   ]
  },
  {
   "cell_type": "code",
   "execution_count": null,
   "id": "fbe0db3e-0fad-4ab2-9271-f590ee7ada49",
   "metadata": {},
   "outputs": [],
   "source": [
    "with pm.Model() as ar1nc:\n",
    "    rho = pm.Normal(\"rho\", 0.0, 1.0, shape=1)\n",
    "    sigma = pm.HalfNormal(\"sigma\", 3)\n",
    "    likelihood = pm.AR(\n",
    "        \"y\", rho=rho, sigma=sigma, constant=False, init_dist=pm.Normal.dist(0, 10), observed=panel_data\n",
    "    )\n",
    "\n",
    "    idata = pm.sample(\n",
    "        1000,\n",
    "        tune=2000,\n",
    "        target_accept=0.9,\n",
    "        random_seed=RANDOM_SEED,\n",
    "    )\n",
    "\n",
    "az.plot_trace(\n",
    "    idata\n",
    ");\n",
    "\n",
    "# => A noter : l'estimation converge vers les bonnes valeurs de paramètres"
   ]
  },
  {
   "cell_type": "code",
   "execution_count": null,
   "id": "f2e91ed5-2552-4653-b53c-fa3d23c57e26",
   "metadata": {},
   "outputs": [],
   "source": [
    "# SECOND ESSAI : panel de 2 séries, générées selon deux modèles différents (valeurs de phi différentes)\n",
    "\n",
    "# Paramètres\n",
    "T = 400  # Longueur de chaque série\n",
    "phi_values = [0.2, 0.9]  # Différentes valeurs de phi pour les deux séries\n",
    "sigma = 1.0  # Écart-type du bruit blanc\n",
    "\n",
    "# Initialiser un DataFrame pour stocker les séries\n",
    "panel_data = pd.DataFrame()\n",
    "\n",
    "# Simuler les deux séries avec des phi différents\n",
    "for i, phi in enumerate(phi_values):\n",
    "    y = np.zeros(T)  # Initialisation de la série\n",
    "    epsilon = np.random.normal(0, sigma, T)  # Bruit blanc\n",
    "\n",
    "    # Générer la série AR(1)\n",
    "    for t in range(1, T):\n",
    "        y[t] = phi * y[t - 1] + epsilon[t]\n",
    "\n",
    "    # Ajouter la série au DataFrame\n",
    "    panel_data[f\"series_{i+1}\"] = y\n",
    "\n",
    "# Ajouter un index temporel\n",
    "panel_data.index = range(1, T + 1)\n",
    "panel_data = panel_data.T\n",
    "\n",
    "# Afficher les 10 premières lignes\n",
    "print(panel_data.head(10))"
   ]
  },
  {
   "cell_type": "code",
   "execution_count": null,
   "id": "23230671-5793-4cf4-a9be-4c3e06a671c8",
   "metadata": {},
   "outputs": [],
   "source": [
    "with pm.Model() as ar1nc:\n",
    "    rho = pm.Normal(\"rho\", 0.0, 1.0, shape=1)\n",
    "    sigma = pm.HalfNormal(\"sigma\", 3)\n",
    "    likelihood = pm.AR(\n",
    "        \"y\", rho=rho, sigma=sigma, constant=False, init_dist=pm.Normal.dist(0, 10), observed=panel_data\n",
    "    )\n",
    "\n",
    "    idata = pm.sample(\n",
    "        1000,\n",
    "        tune=2000,\n",
    "        target_accept=0.9,\n",
    "        random_seed=RANDOM_SEED,\n",
    "    )\n",
    "\n",
    "az.plot_trace(\n",
    "    idata\n",
    ");\n",
    "\n",
    "# => A noter : en traitant les deux séries séparement (avec observed=panel_data.iloc[0,:] par exemple), l'estimation retrouve les bonnes valeurs\n",
    "# En traitant ensemble, l'estimation trouve une valeur entre les 2"
   ]
  }
 ],
 "metadata": {
  "kernelspec": {
   "display_name": "Python 3 (ipykernel)",
   "language": "python",
   "name": "python3"
  },
  "language_info": {
   "codemirror_mode": {
    "name": "ipython",
    "version": 3
   },
   "file_extension": ".py",
   "mimetype": "text/x-python",
   "name": "python",
   "nbconvert_exporter": "python",
   "pygments_lexer": "ipython3",
   "version": "3.12.7"
  }
 },
 "nbformat": 4,
 "nbformat_minor": 5
}
